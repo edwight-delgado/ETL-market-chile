{
 "cells": [
  {
   "cell_type": "code",
   "execution_count": 1,
   "id": "64ab90ce-7bcd-4c48-96cd-0036849b5b3a",
   "metadata": {},
   "outputs": [],
   "source": [
    "import pandas as pd\n"
   ]
  },
  {
   "cell_type": "code",
   "execution_count": 2,
   "id": "ce4e8efc-5f54-4076-9b16-7180e9f8641e",
   "metadata": {},
   "outputs": [],
   "source": [
    "df = pd.read_csv('../ETL/clean_data/jumbo_09-26-2022_products.csv')"
   ]
  },
  {
   "cell_type": "code",
   "execution_count": 3,
   "id": "874b593f-d156-4783-a61a-5a5165672c4e",
   "metadata": {},
   "outputs": [
    {
     "data": {
      "text/html": [
       "<div>\n",
       "<style scoped>\n",
       "    .dataframe tbody tr th:only-of-type {\n",
       "        vertical-align: middle;\n",
       "    }\n",
       "\n",
       "    .dataframe tbody tr th {\n",
       "        vertical-align: top;\n",
       "    }\n",
       "\n",
       "    .dataframe thead th {\n",
       "        text-align: right;\n",
       "    }\n",
       "</style>\n",
       "<table border=\"1\" class=\"dataframe\">\n",
       "  <thead>\n",
       "    <tr style=\"text-align: right;\">\n",
       "      <th></th>\n",
       "      <th>Unnamed: 0</th>\n",
       "      <th>site</th>\n",
       "      <th>title</th>\n",
       "      <th>price</th>\n",
       "      <th>brand</th>\n",
       "      <th>unit</th>\n",
       "      <th>link</th>\n",
       "      <th>date</th>\n",
       "      <th>this_url</th>\n",
       "      <th>oferta</th>\n",
       "      <th>rating</th>\n",
       "      <th>unit_value</th>\n",
       "    </tr>\n",
       "  </thead>\n",
       "  <tbody>\n",
       "    <tr>\n",
       "      <th>0</th>\n",
       "      <td>0</td>\n",
       "      <td>jumbo</td>\n",
       "      <td>pan ciabatta rústico granel</td>\n",
       "      <td>1295.0</td>\n",
       "      <td>panadería propia</td>\n",
       "      <td>500 g</td>\n",
       "      <td>https://www.jumbo.cl/pan-ciabatta-rustico-jumb...</td>\n",
       "      <td>09-26-2022</td>\n",
       "      <td>https://www.jumbo.cl/panaderia-y-pasteleria</td>\n",
       "      <td>NaN</td>\n",
       "      <td>4.9</td>\n",
       "      <td>['500']</td>\n",
       "    </tr>\n",
       "    <tr>\n",
       "      <th>1</th>\n",
       "      <td>1</td>\n",
       "      <td>jumbo</td>\n",
       "      <td>marraqueta grande kg</td>\n",
       "      <td>1095.0</td>\n",
       "      <td>panadería propia</td>\n",
       "      <td>500 g</td>\n",
       "      <td>https://www.jumbo.cl/marraqueta-grande-jumbo-v...</td>\n",
       "      <td>09-26-2022</td>\n",
       "      <td>https://www.jumbo.cl/panaderia-y-pasteleria</td>\n",
       "      <td>NaN</td>\n",
       "      <td>4.3</td>\n",
       "      <td>['500']</td>\n",
       "    </tr>\n",
       "    <tr>\n",
       "      <th>2</th>\n",
       "      <td>2</td>\n",
       "      <td>jumbo</td>\n",
       "      <td>pan de molde blanco xl 752 g</td>\n",
       "      <td>2629.0</td>\n",
       "      <td>ideal</td>\n",
       "      <td>1 un</td>\n",
       "      <td>https://www.jumbo.cl/pan-de-molde-blanco-ideal...</td>\n",
       "      <td>09-26-2022</td>\n",
       "      <td>https://www.jumbo.cl/panaderia-y-pasteleria</td>\n",
       "      <td>NaN</td>\n",
       "      <td>5.0</td>\n",
       "      <td>['1']</td>\n",
       "    </tr>\n",
       "    <tr>\n",
       "      <th>3</th>\n",
       "      <td>3</td>\n",
       "      <td>jumbo</td>\n",
       "      <td>pan hallulla granel</td>\n",
       "      <td>995.0</td>\n",
       "      <td>panadería propia</td>\n",
       "      <td>500 g</td>\n",
       "      <td>https://www.jumbo.cl/hallulla-granel/p</td>\n",
       "      <td>09-26-2022</td>\n",
       "      <td>https://www.jumbo.cl/panaderia-y-pasteleria</td>\n",
       "      <td>NaN</td>\n",
       "      <td>NaN</td>\n",
       "      <td>['500']</td>\n",
       "    </tr>\n",
       "    <tr>\n",
       "      <th>4</th>\n",
       "      <td>4</td>\n",
       "      <td>jumbo</td>\n",
       "      <td>pan hallulla delgada granel</td>\n",
       "      <td>995.0</td>\n",
       "      <td>panadería propia</td>\n",
       "      <td>500 g</td>\n",
       "      <td>https://www.jumbo.cl/hallulla-delgada-granel/p</td>\n",
       "      <td>09-26-2022</td>\n",
       "      <td>https://www.jumbo.cl/panaderia-y-pasteleria</td>\n",
       "      <td>NaN</td>\n",
       "      <td>4.6</td>\n",
       "      <td>['500']</td>\n",
       "    </tr>\n",
       "  </tbody>\n",
       "</table>\n",
       "</div>"
      ],
      "text/plain": [
       "   Unnamed: 0   site                         title   price             brand  \\\n",
       "0           0  jumbo   pan ciabatta rústico granel  1295.0  panadería propia   \n",
       "1           1  jumbo          marraqueta grande kg  1095.0  panadería propia   \n",
       "2           2  jumbo  pan de molde blanco xl 752 g  2629.0             ideal   \n",
       "3           3  jumbo           pan hallulla granel   995.0  panadería propia   \n",
       "4           4  jumbo   pan hallulla delgada granel   995.0  panadería propia   \n",
       "\n",
       "    unit                                               link        date  \\\n",
       "0  500 g  https://www.jumbo.cl/pan-ciabatta-rustico-jumb...  09-26-2022   \n",
       "1  500 g  https://www.jumbo.cl/marraqueta-grande-jumbo-v...  09-26-2022   \n",
       "2   1 un  https://www.jumbo.cl/pan-de-molde-blanco-ideal...  09-26-2022   \n",
       "3  500 g             https://www.jumbo.cl/hallulla-granel/p  09-26-2022   \n",
       "4  500 g     https://www.jumbo.cl/hallulla-delgada-granel/p  09-26-2022   \n",
       "\n",
       "                                      this_url oferta  rating unit_value  \n",
       "0  https://www.jumbo.cl/panaderia-y-pasteleria    NaN     4.9    ['500']  \n",
       "1  https://www.jumbo.cl/panaderia-y-pasteleria    NaN     4.3    ['500']  \n",
       "2  https://www.jumbo.cl/panaderia-y-pasteleria    NaN     5.0      ['1']  \n",
       "3  https://www.jumbo.cl/panaderia-y-pasteleria    NaN     NaN    ['500']  \n",
       "4  https://www.jumbo.cl/panaderia-y-pasteleria    NaN     4.6    ['500']  "
      ]
     },
     "execution_count": 3,
     "metadata": {},
     "output_type": "execute_result"
    }
   ],
   "source": [
    "df.head()"
   ]
  },
  {
   "cell_type": "code",
   "execution_count": 9,
   "id": "7fd002f2-55a3-4c86-91a3-f9001d9ed912",
   "metadata": {},
   "outputs": [],
   "source": [
    "df = df.drop(['link','Unnamed: 0'],axis=1)"
   ]
  },
  {
   "cell_type": "code",
   "execution_count": 18,
   "id": "386d049c-3d7c-447d-aaf2-75761e9f62d3",
   "metadata": {},
   "outputs": [
    {
     "data": {
      "text/plain": [
       "1"
      ]
     },
     "execution_count": 18,
     "metadata": {},
     "output_type": "execute_result"
    }
   ],
   "source": [
    "df.oferta.nunique()"
   ]
  },
  {
   "cell_type": "code",
   "execution_count": null,
   "id": "1bc9127a-dd4c-4907-b213-2f6c32d5e606",
   "metadata": {},
   "outputs": [],
   "source": [
    "df.oferta.value_counts()"
   ]
  }
 ],
 "metadata": {
  "kernelspec": {
   "display_name": "Python 3 (ipykernel)",
   "language": "python",
   "name": "python3"
  },
  "language_info": {
   "codemirror_mode": {
    "name": "ipython",
    "version": 3
   },
   "file_extension": ".py",
   "mimetype": "text/x-python",
   "name": "python",
   "nbconvert_exporter": "python",
   "pygments_lexer": "ipython3",
   "version": "3.9.7"
  }
 },
 "nbformat": 4,
 "nbformat_minor": 5
}
